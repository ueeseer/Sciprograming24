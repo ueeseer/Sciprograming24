{
 "cells": [
  {
   "attachments": {},
   "cell_type": "markdown",
   "id": "d5db6b1d",
   "metadata": {},
   "source": [
    "## Checkpoint 4\n",
    "\n",
    "![ch4.jpg](ch4.jpg)  \n",
    "\n",
    "***“In the middle of the journey of our life I found myself within a dark woods where the straight way was lost.”***\n",
    "― Dante Alighieri, Inferno\n",
    "\n",
    "Attempting to finish the course by jumping directly to the checkpoints may seem like a good idea, until it isn't. To get back on track, you may want to return to the [Week 4 tasklist](../WeeklyTasks/Week4.ipynb). "
   ]
  },
  {
   "cell_type": "code",
   "execution_count": null,
   "id": "c3ccaba4",
   "metadata": {},
   "outputs": [],
   "source": []
  }
 ],
 "metadata": {
  "kernelspec": {
   "display_name": "Python 3 (ipykernel)",
   "language": "python",
   "name": "python3"
  },
  "language_info": {
   "codemirror_mode": {
    "name": "ipython",
    "version": 3
   },
   "file_extension": ".py",
   "mimetype": "text/x-python",
   "name": "python",
   "nbconvert_exporter": "python",
   "pygments_lexer": "ipython3",
   "version": "3.9.7"
  }
 },
 "nbformat": 4,
 "nbformat_minor": 5
}
