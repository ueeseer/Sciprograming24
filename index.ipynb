{
 "cells": [
  {
   "cell_type": "markdown",
   "metadata": {},
   "source": [
    "# Scientific Programming\n",
    "\n",
    "Welcome to Scientific Programming, the Python programming component of Programming & Data Analysis!\n",
    "\n",
    "This course aims to provide a gentle introduction to Python programming, making use of Jupyter notebooks. \n",
    "\n",
    "No prior knowledge of computer programming is assumed or needed, just an interest to learn and (possibly) some excitement! \n",
    "\n",
    "The recommended path through this course is by following the course guide below:\n",
    "## Course Guide\n",
    "You can find here weekly task lists. Feel free to work through them as quickly as you want. \n",
    "1. [Week0](./WeeklyTasks/Week0.ipynb) (before the class starts)\n",
    "2. [Week1](./WeeklyTasks/Week1.ipynb)\n",
    "3. [Week2](./WeeklyTasks/Week2.ipynb)\n",
    "4. [Week3](./WeeklyTasks/Week3.ipynb)\n",
    "5. [Week4](./WeeklyTasks/Week4.ipynb)\n",
    "6. [Week5](./WeeklyTasks/Week5.ipynb)\n",
    "7. [Week6](./WeeklyTasks/Week6.ipynb)\n",
    "\n",
    "All the resources involved in the present course:\n",
    "## Table of Contents\n",
    "\n",
    "### Getting Started\n",
    "- [Why learn computing?](./CourseNotes/whyLearnComputing.ipynb)\n",
    "- [Teaching Method](./CourseNotes/TeachingMethod.ipynb)\n",
    "- [Course Assessment](./CourseNotes/assessment.ipynb)\n",
    "- [Code Examples](./CodeExamples/CodeExamples.ipynb)\n",
    "\n",
    "### Course Notes\n",
    "- [What is a computer program?](./CourseNotes/program.ipynb)\n",
    "- [Basic Variables](./CourseNotes/variables.ipynb)\n",
    "- [Adding Comments](./CourseNotes/comments.ipynb)\n",
    "- [Printing and Reading to/from the terminal](./CourseNotes/terminalIO.ipynb)\n",
    "- [Formatting Output](./CourseNotes/formatting.ipynb)\n",
    "- [Adding Mathematical Functions](./CourseNotes/functions.ipynb)\n",
    "- [Adding Random Numbers](./CourseNotes/random.ipynb)\n",
    "- [Basic Functions](./CourseNotes/basicfunctions.ipynb)\n",
    "- [Conditional Statements](./CourseNotes/conditionalstatements.ipynb)\n",
    "- [Simple Lists](./CourseNotes/simplelists.ipynb)\n",
    "- [Loops and Looping](./CourseNotes/loops.ipynb)\n",
    "- [Simple Graphs](./CourseNotes/plotting.ipynb)\n",
    "- [File Input and Output](./CourseNotes/fileIO.ipynb)\n",
    "- [Parsing Input](./CourseNotes/ParsingInput.ipynb)\n",
    "- [More on Functions](./CourseNotes/MoreFunctions.ipynb)\n",
    "- [Scope of Variables](./CourseNotes/Scope.ipynb)\n",
    "- [Lambda Functions](./CourseNotes/lambda.ipynb)\n",
    "- [Advanced List Processing](./CourseNotes/AdvancedListProcessing.ipynb)\n",
    "- [Objects and OOP](./CourseNotes/ObjectsandOOP.ipynb)\n",
    "- [Simple Lists](./CourseNotes/simplelists.ipynb)\n",
    "\n",
    "### Checkpoints\n",
    "- [Checkpoint 1](./Checkpoints/Checkpoint1.ipynb)\n",
    "- [Checkpoint 2](./Checkpoints/Checkpoint2.ipynb)\n",
    "- [Checkpoint 3](./Checkpoints/Checkpoint3.ipynb)\n",
    "- [Checkpoint 4](./CourseNotes/HowtoWriteaComputerProgramfromScratch.ipynb)\n",
    "- [Checkpoint 5](./Checkpoints/Checkpoint5.ipynb)\n",
    "- [Checkpoint 6](./Checkpoints/Checkpoint6.ipynb)"
   ]
  },
  {
   "cell_type": "markdown",
   "metadata": {},
   "source": []
  }
 ],
 "metadata": {
  "kernelspec": {
   "display_name": "Python 3 (ipykernel)",
   "language": "python",
   "name": "python3"
  },
  "language_info": {
   "codemirror_mode": {
    "name": "ipython",
    "version": 3
   },
   "file_extension": ".py",
   "mimetype": "text/x-python",
   "name": "python",
   "nbconvert_exporter": "python",
   "pygments_lexer": "ipython3",
   "version": "3.9.17"
  }
 },
 "nbformat": 4,
 "nbformat_minor": 4
}
