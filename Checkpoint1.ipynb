{
 "cells": [
  {
   "attachments": {},
   "cell_type": "markdown",
   "id": "33931eba",
   "metadata": {},
   "source": [
    "## Checkpoint 1\n",
    "\n",
    "### Aim \n",
    "\n",
    "To write a basic `Python` program to prompt for a floating point number, read it in, perform basic arithmetic and print out the result. \n",
    "\n",
    "### Task\n",
    "\n",
    "Write a `Python` program to calculate and output the radius and surface area of a sphere from its volume.\n",
    "\n",
    "Your program should:\n",
    "\n",
    "1. Prompt for the volume of a sphere in $mm^3$.\n",
    "2. Calculate and print out to the terminal the radius and the surface area of the sphere in m and $m^2$ respectively in an understandable format.\n",
    "\n",
    "Check your program works for a range of volumes, both large and small and that you have the output units correct. \n",
    "\n",
    "### Background\n",
    "\n",
    "To complete this checkpoint you need to have read and studied the following course sections:\n",
    "\n",
    "1. [Basic Variables](../CourseNotes/variables.ipynb)\n",
    "2. [Printing and Reading to/from the terminal](../CourseNotes/terminalIO.ipynb)\n",
    "3. [Adding Mathematical Functions](../CourseNotes/functions.ipynb)\n",
    "\n",
    "### Checkpoint\n",
    "\n",
    "- Check carefully that you have fullfilled at least the assessement criteria below. Call a demonstrator, show them your code, and run your program with the following input volumes:\n",
    "    - $$ 1.4 \\times 10^6 \\text{ mm}^3 $$\n",
    "    - $$ 3.7 \\times 10^{-4} \\text{ mm}^3 $$\n",
    "- Ensure that the demonstrator finds you in Learn. Please check that your pass/fail (0/1) has been entered correctly (you should be able to see this in Learn). \n",
    "\n",
    "### Assessment \n",
    "\n",
    "To pass this checkpoint:\n",
    "\n",
    "- The program works for the supplied numbers, *including* correct powers of 10. \n",
    "- Prompting is sensible and the output is clear.\n",
    "- Variable names are concise, but explain their purpose, and there are basic commenets explaining the operation of the program.\n",
    "\n",
    "### Next steps\n",
    "\n",
    "Once you have completed this checkpoint, please continue with the [Week1](../WeeklyTasks/Week1.ipynb) tasklist."
   ]
  },
  {
   "cell_type": "code",
   "execution_count": 9,
   "id": "e7c4f859",
   "metadata": {},
   "outputs": [
    {
     "name": "stdout",
     "output_type": "stream",
     "text": [
      "Radius: 0.0693979234383925 m\n",
      "Surface Area: 0.06052054286218694 m^2\n"
     ]
    }
   ],
   "source": [
    "import math\n",
    "volume_mm3 = float(input(\"Enter the volume of the sphere in mm^3 (e.g., 1e-3 for 1*10^-3): \"))\n",
    "volume_m3 = volume_mm3 * 1e-9\n",
    "radius_m = ((3 * volume_m3) / (4 * math.pi)) ** (1 / 3)\n",
    "surface_area_m2 = 4 * math.pi * (radius_m ** 2)\n",
    "print(f\"Radius: {radius_m} m\")\n",
    "print(f\"Surface Area: {surface_area_m2} m^2\")"
   ]
  },
  {
   "cell_type": "code",
   "execution_count": null,
   "id": "8d47fffa",
   "metadata": {},
   "outputs": [],
   "source": [
    "# Placeholder for a comment to describe what this program does (replace as appropriate)\n",
    "#Given input as volume and give output as radius and surface area of sphere\n",
    "# Describe the input here\n",
    "... #volume of sphere in mm^3\n",
    "\n",
    "# Describe how the input is processed to get to the desired results\n",
    "... #convert volume from mm^3 to m^3 and calculate radius and surface area\n",
    "\n",
    "# Describe the outputs produced\n",
    "... #radius and surface area of sphere in meters"
   ]
  }
 ],
 "metadata": {
  "kernelspec": {
   "display_name": "Python 3 (ipykernel)",
   "language": "python",
   "name": "python3"
  },
  "language_info": {
   "codemirror_mode": {
    "name": "ipython",
    "version": 3
   },
   "file_extension": ".py",
   "mimetype": "text/x-python",
   "name": "python",
   "nbconvert_exporter": "python",
   "pygments_lexer": "ipython3",
   "version": "3.12.6"
  }
 },
 "nbformat": 4,
 "nbformat_minor": 5
}
